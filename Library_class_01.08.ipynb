{
 "cells": [
  {
   "cell_type": "code",
   "execution_count": 11,
   "metadata": {},
   "outputs": [],
   "source": [
    "class Library(object):\n",
    "    def __init__ (self,name,adress,workhours):\n",
    "        self.name=name\n",
    "        self.adress=adress\n",
    "        self.workhours=workhours\n",
    "        \n",
    "    def __str__(self):\n",
    "        return \"Name: %s, Adress: %s, Working hours: %s\" %(self.name, self.adress, self.workhours)\n",
    "    \n",
    "library=Library('National', 'Prospect Mira, 111', '10:00 - 20:00')\n",
    "\n",
    "class People(Library):\n",
    "    def __init__(self):\n",
    "        Library.__init__(self)\n",
    "        \n",
    "class Employee(People):\n",
    "    def __init__(self,position,name,years):\n",
    "        People.__init__(self)\n",
    "        self.position=position\n",
    "        self.name=name\n",
    "        self.years=years\n",
    "        \n",
    "class Clients(People):\n",
    "    def __init__(self,id_number):\n",
    "        People.__init__(self)\n",
    "        self.id_number=id_number\n",
    "        \n",
    "class Formular(Clients):\n",
    "    def __init__(self,name,phone,adress,books):\n",
    "        Clients.__init__(self)\n",
    "        self.name=name\n",
    "        self.phone=phone\n",
    "        self.adress=adress\n",
    "        self.books=books\n",
    "        \n",
    "class Stat(Clients):\n",
    "    def __init__(self,taken,returned):\n",
    "        Clients.__init__(self)\n",
    "        self.taken=taken\n",
    "        self.returned=returned\n",
    "        \n",
    "class Storage(Library):\n",
    "    def __init__(self,isbn_list): #Как связать ISBN книги и storage?\n",
    "        Library.__init__(self)\n",
    "        self.isbn_list=isbn_list\n",
    "        \n",
    "class Book(Storage):\n",
    "    def __init__(self,isbn,title,author,genre):\n",
    "        Storage.__init__(self)\n",
    "        self.isbn=isbn\n",
    "        self.title=title\n",
    "        self.author=author\n",
    "        self.genre=genre"
   ]
  },
  {
   "cell_type": "code",
   "execution_count": 12,
   "metadata": {},
   "outputs": [
    {
     "name": "stdout",
     "output_type": "stream",
     "text": [
      "Name: National, Adress: Prospect Mira, 111, Working hours: 10:00 - 20:00\n"
     ]
    }
   ],
   "source": [
    "print(library)"
   ]
  },
  {
   "cell_type": "code",
   "execution_count": null,
   "metadata": {},
   "outputs": [],
   "source": []
  }
 ],
 "metadata": {
  "kernelspec": {
   "display_name": "Python 3",
   "language": "python",
   "name": "python3"
  },
  "language_info": {
   "codemirror_mode": {
    "name": "ipython",
    "version": 3
   },
   "file_extension": ".py",
   "mimetype": "text/x-python",
   "name": "python",
   "nbconvert_exporter": "python",
   "pygments_lexer": "ipython3",
   "version": "3.6.5"
  }
 },
 "nbformat": 4,
 "nbformat_minor": 2
}
