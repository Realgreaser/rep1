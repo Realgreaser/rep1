{
 "cells": [
  {
   "cell_type": "code",
   "execution_count": 20,
   "metadata": {},
   "outputs": [
    {
     "name": "stdout",
     "output_type": "stream",
     "text": [
      "24\n"
     ]
    }
   ],
   "source": [
    "def arithmetic(x,y,o):\n",
    "    if o=='+': \n",
    "        result=x+y\n",
    "        print(str(result))\n",
    "    elif o=='-':\n",
    "        result=x-y\n",
    "        print(str(result))\n",
    "    elif o=='*':\n",
    "        result=x*y\n",
    "        print(str(result))\n",
    "    elif o=='/':\n",
    "        result=x/y\n",
    "        print(str(result))\n",
    "    else:\n",
    "        print(\"Unknown operation\")\n",
    "        \n",
    "arithmetic(12,2,'*')"
   ]
  },
  {
   "cell_type": "code",
   "execution_count": null,
   "metadata": {},
   "outputs": [],
   "source": []
  }
 ],
 "metadata": {
  "kernelspec": {
   "display_name": "Python 3",
   "language": "python",
   "name": "python3"
  },
  "language_info": {
   "codemirror_mode": {
    "name": "ipython",
    "version": 3
   },
   "file_extension": ".py",
   "mimetype": "text/x-python",
   "name": "python",
   "nbconvert_exporter": "python",
   "pygments_lexer": "ipython3",
   "version": "3.6.5"
  }
 },
 "nbformat": 4,
 "nbformat_minor": 2
}
