{
 "cells": [
  {
   "cell_type": "code",
   "execution_count": 13,
   "metadata": {},
   "outputs": [
    {
     "name": "stdout",
     "output_type": "stream",
     "text": [
      "book2 102\n"
     ]
    }
   ],
   "source": [
    "catalog={'book1':{'title':'Hobbit', 'isbn':101},\n",
    "          'book2':{'title':'Harry Potter', 'isbn':102},\n",
    "          'book3':{'title':'It', 'isbn':103}}\n",
    "\n"
   ]
  },
  {
   "cell_type": "code",
   "execution_count": 23,
   "metadata": {},
   "outputs": [
    {
     "name": "stdout",
     "output_type": "stream",
     "text": [
      "Hobbit\n",
      "It\n"
     ]
    }
   ],
   "source": [
    "catalog={'book1':'Hobbit', 'book2':'It'}\n",
    "\n",
    "for key, value in catalog.items():\n",
    "    print(value)"
   ]
  },
  {
   "cell_type": "code",
   "execution_count": null,
   "metadata": {},
   "outputs": [],
   "source": [
    "catalog={'101':'Hobbit', '102':'Harry Potter', '103':'It'}\n",
    "\n",
    "isbn=input(\"Type isbn \")\n",
    "\n",
    "if isbn in catalog.keys():\n",
    "    print(catalog[isbn])"
   ]
  }
 ],
 "metadata": {
  "kernelspec": {
   "display_name": "Python 3",
   "language": "python",
   "name": "python3"
  },
  "language_info": {
   "codemirror_mode": {
    "name": "ipython",
    "version": 3
   },
   "file_extension": ".py",
   "mimetype": "text/x-python",
   "name": "python",
   "nbconvert_exporter": "python",
   "pygments_lexer": "ipython3",
   "version": "3.6.5"
  }
 },
 "nbformat": 4,
 "nbformat_minor": 2
}
