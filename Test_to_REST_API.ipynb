{
 "cells": [
  {
   "cell_type": "code",
   "execution_count": 1,
   "metadata": {},
   "outputs": [
    {
     "ename": "SyntaxError",
     "evalue": "invalid syntax (<ipython-input-1-d8de5e95e735>, line 13)",
     "output_type": "error",
     "traceback": [
      "\u001b[0;36m  File \u001b[0;32m\"<ipython-input-1-d8de5e95e735>\"\u001b[0;36m, line \u001b[0;32m13\u001b[0m\n\u001b[0;31m    else:\u001b[0m\n\u001b[0m       ^\u001b[0m\n\u001b[0;31mSyntaxError\u001b[0m\u001b[0;31m:\u001b[0m invalid syntax\n"
     ]
    }
   ],
   "source": [
    "import unittest\n",
    "import requests\n",
    "import re\n",
    "import responses\n",
    "import json\n",
    "import logging\n",
    "import sys\n",
    "\n",
    "if __name__ == '__main__':\n",
    "    log = logging.getLogger()\n",
    "    log.level = logging.DEBUG\n",
    "    \n",
    "log.addHandler(logging.StreamHandler(sys.stderr))\n",
    "else:\n",
    "    log = logging.getLogger(name)   \n",
    "    log.info('PASS')\n",
    "    log.debug('Something about %r in %s', log, name)\n",
    "    \n",
    "url = 'https://jsonplaceholder.typicode.com/'\n",
    "\n",
    "class JsonPlaceholderTests(unittest.TestCase):\n",
    "    def test_request_get(self):\n",
    "        response = requests.get(url)\n",
    "        self.assertEqual(response.status_code, 200)\n",
    "        logging.info('[PASS]')\n",
    "        \n",
    "    def test_get_postcomments_negative(self):\n",
    "        response = requests.get(url + 'comments/-40000')\n",
    "        self.assertEqual(response.status_code, 404)\n",
    "        logging.info('[PASS]')\n",
    "        \n",
    "if __name__=='__main__':\n",
    "    unittest.main()"
   ]
  },
  {
   "cell_type": "code",
   "execution_count": null,
   "metadata": {},
   "outputs": [],
   "source": [
    "\n"
   ]
  }
 ],
 "metadata": {
  "kernelspec": {
   "display_name": "Python 3",
   "language": "python",
   "name": "python3"
  },
  "language_info": {
   "codemirror_mode": {
    "name": "ipython",
    "version": 3
   },
   "file_extension": ".py",
   "mimetype": "text/x-python",
   "name": "python",
   "nbconvert_exporter": "python",
   "pygments_lexer": "ipython3",
   "version": "3.6.5"
  }
 },
 "nbformat": 4,
 "nbformat_minor": 2
}
