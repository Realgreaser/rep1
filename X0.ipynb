{
 "cells": [
  {
   "cell_type": "code",
   "execution_count": 1,
   "metadata": {},
   "outputs": [
    {
     "name": "stdout",
     "output_type": "stream",
     "text": [
      "   |  |  \n",
      "----------\n",
      "   |  |  \n",
      "----------\n",
      "   |  |  \n"
     ]
    }
   ],
   "source": [
    "from IPython.display import clear_output\n",
    "\n",
    "board=[' ']*10\n",
    "\n",
    "def reset_board():\n",
    "    global board, game_state\n",
    "    board=[' ']*10\n",
    "    game_state=True\n",
    "\n",
    "def display_board():\n",
    "    '''Эта функция выводит игровое х/0'''\n",
    "    clear_output()\n",
    "    print(\" \"+board[7]+\" |\"+board[8]+\" | \"+board[9]+\"\")\n",
    "    print(\"----------\")\n",
    "    print(\" \"+board[4]+\" |\"+board[5]+\" | \"+board[6]+\"\")\n",
    "    print(\"----------\")\n",
    "    print(\" \"+board[1]+\" |\"+board[2]+\" | \"+board[3]+\"\")\n",
    "    \n",
    "display_board()"
   ]
  },
  {
   "cell_type": "code",
   "execution_count": null,
   "metadata": {},
   "outputs": [],
   "source": []
  }
 ],
 "metadata": {
  "kernelspec": {
   "display_name": "Python 3",
   "language": "python",
   "name": "python3"
  },
  "language_info": {
   "codemirror_mode": {
    "name": "ipython",
    "version": 3
   },
   "file_extension": ".py",
   "mimetype": "text/x-python",
   "name": "python",
   "nbconvert_exporter": "python",
   "pygments_lexer": "ipython3",
   "version": "3.6.5"
  }
 },
 "nbformat": 4,
 "nbformat_minor": 2
}
