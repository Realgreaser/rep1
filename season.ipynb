{
 "cells": [
  {
   "cell_type": "code",
   "execution_count": 1,
   "metadata": {},
   "outputs": [
    {
     "name": "stdout",
     "output_type": "stream",
     "text": [
      "Winter\n"
     ]
    }
   ],
   "source": [
    "def season(s):\n",
    "    if s==12 or s==1 or s==2:\n",
    "        print('Winter')\n",
    "    if s==3 or s==4 or s==5:\n",
    "        print(\"Spring\")\n",
    "    if s==6 or s==7 or s==8:\n",
    "        print('Summer')\n",
    "    if s==9 or s==10 or s==11:\n",
    "        print('Autumn')\n",
    "        \n",
    "season(1)"
   ]
  },
  {
   "cell_type": "code",
   "execution_count": null,
   "metadata": {},
   "outputs": [],
   "source": []
  }
 ],
 "metadata": {
  "kernelspec": {
   "display_name": "Python 3",
   "language": "python",
   "name": "python3"
  },
  "language_info": {
   "codemirror_mode": {
    "name": "ipython",
    "version": 3
   },
   "file_extension": ".py",
   "mimetype": "text/x-python",
   "name": "python",
   "nbconvert_exporter": "python",
   "pygments_lexer": "ipython3",
   "version": "3.6.5"
  }
 },
 "nbformat": 4,
 "nbformat_minor": 2
}
