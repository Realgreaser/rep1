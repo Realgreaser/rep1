{
 "cells": [
  {
   "cell_type": "code",
   "execution_count": 7,
   "metadata": {},
   "outputs": [
    {
     "name": "stdout",
     "output_type": "stream",
     "text": [
      "1 Big daddy\n",
      "2 Big daddy\n",
      "3 Big daddy\n",
      "4 Big daddy\n",
      "5 Big daddy\n",
      "6 Big daddy\n",
      "7 Big daddy\n",
      "8 Big daddy\n",
      "9 Big daddy\n"
     ]
    }
   ],
   "source": [
    "for x in range(1,10):\n",
    "    print(str(x)+' Big daddy')"
   ]
  },
  {
   "cell_type": "code",
   "execution_count": 9,
   "metadata": {},
   "outputs": [
    {
     "name": "stdout",
     "output_type": "stream",
     "text": [
      "1 Big daddy\n",
      "2 Big daddy\n",
      "3 Big daddy\n",
      "4 Big daddy\n",
      "5 Big daddy\n",
      "6 Big daddy\n",
      "7 Big daddy\n",
      "8 Big daddy\n",
      "9 Big daddy\n"
     ]
    }
   ],
   "source": [
    "def boss(x):\n",
    "    for x in range(1,10):\n",
    "        print(str(x)+\" Big daddy\")\n",
    "    \n",
    "boss(x)"
   ]
  },
  {
   "cell_type": "code",
   "execution_count": 4,
   "metadata": {},
   "outputs": [
    {
     "name": "stdout",
     "output_type": "stream",
     "text": [
      "Enter here: Dima\n",
      "1Dima\n",
      "Enter here: Alex\n",
      "2Alex\n",
      "Enter here: Max\n",
      "3Max\n",
      "Enter here: Dax\n",
      "4Dax\n",
      "Enter here: d\n",
      "5d\n",
      "Enter here: d\n",
      "6d\n",
      "Enter here: d\n",
      "7d\n",
      "Enter here: d\n",
      "8d\n",
      "Enter here: d\n",
      "9d\n"
     ]
    }
   ],
   "source": [
    "def boss(x):\n",
    "    for x in range(1,10):\n",
    "        name=input(\"Enter here: \")\n",
    "        print(str(x)+name)\n",
    "        \n",
    "boss(3)"
   ]
  },
  {
   "cell_type": "code",
   "execution_count": null,
   "metadata": {},
   "outputs": [],
   "source": []
  }
 ],
 "metadata": {
  "kernelspec": {
   "display_name": "Python 3",
   "language": "python",
   "name": "python3"
  },
  "language_info": {
   "codemirror_mode": {
    "name": "ipython",
    "version": 3
   },
   "file_extension": ".py",
   "mimetype": "text/x-python",
   "name": "python",
   "nbconvert_exporter": "python",
   "pygments_lexer": "ipython3",
   "version": "3.6.5"
  }
 },
 "nbformat": 4,
 "nbformat_minor": 2
}
