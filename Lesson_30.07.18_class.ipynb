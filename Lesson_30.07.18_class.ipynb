{
 "cells": [
  {
   "cell_type": "code",
   "execution_count": 3,
   "metadata": {},
   "outputs": [
    {
     "name": "stdout",
     "output_type": "stream",
     "text": [
      "<class 'int'>\n"
     ]
    }
   ],
   "source": [
    "print(type(1))"
   ]
  },
  {
   "cell_type": "code",
   "execution_count": 2,
   "metadata": {},
   "outputs": [
    {
     "name": "stdout",
     "output_type": "stream",
     "text": [
      "<class 'dict'>\n"
     ]
    }
   ],
   "source": [
    "print(type({}))"
   ]
  },
  {
   "cell_type": "code",
   "execution_count": 1,
   "metadata": {},
   "outputs": [
    {
     "name": "stdout",
     "output_type": "stream",
     "text": [
      "<class '__main__.Sample'>\n"
     ]
    }
   ],
   "source": [
    "class Sample(object):\n",
    "    pass\n",
    "\n",
    "x=Sample()\n",
    "\n",
    "print(type(x))"
   ]
  },
  {
   "cell_type": "code",
   "execution_count": 10,
   "metadata": {},
   "outputs": [
    {
     "name": "stdout",
     "output_type": "stream",
     "text": [
      "mammal\n",
      "Labrador\n",
      "Tuzik\n"
     ]
    }
   ],
   "source": [
    "class Dog(object):\n",
    "    \n",
    "    species='mammal'\n",
    "    \n",
    "    def __init__(self, breed, name):\n",
    "        self.breed = breed\n",
    "        self.name = name #можно указать статическое имя self.name=\"Jack\"\n",
    "        \n",
    "sam = Dog('Labrador', 'Tuzik')\n",
    "frank = Dog('Haskie', 'Jack')\n",
    "\n",
    "print(sam.species)\n",
    "print(sam.breed)\n",
    "print(sam.name)"
   ]
  },
  {
   "cell_type": "code",
   "execution_count": 5,
   "metadata": {},
   "outputs": [
    {
     "data": {
      "text/plain": [
       "'Haskie'"
      ]
     },
     "execution_count": 5,
     "metadata": {},
     "output_type": "execute_result"
    }
   ],
   "source": [
    "frank.breed"
   ]
  },
  {
   "cell_type": "code",
   "execution_count": 12,
   "metadata": {},
   "outputs": [
    {
     "name": "stdout",
     "output_type": "stream",
     "text": [
      "Radius is 2\n",
      "Area is 12.56\n",
      "3.14\n"
     ]
    }
   ],
   "source": [
    "class Circle(object):\n",
    "    \n",
    "    pi=3.14\n",
    "    \n",
    "    def __init(self, radius=1):\n",
    "        self.radius=radius\n",
    "        \n",
    "    def area(self):\n",
    "        return self.radius*self.radius*Circle.pi\n",
    "    \n",
    "    def setRadius(self, radius):\n",
    "        self.radius=radius\n",
    "        \n",
    "    def getRadius(self):\n",
    "        return self.radius\n",
    "    \n",
    "c=Circle()\n",
    "\n",
    "c.setRadius(2)\n",
    "\n",
    "print('Radius is ' + str(c.getRadius()))\n",
    "print('Area is ' + str(c.area()))\n",
    "print(c.pi)"
   ]
  },
  {
   "cell_type": "code",
   "execution_count": 17,
   "metadata": {},
   "outputs": [
    {
     "name": "stdout",
     "output_type": "stream",
     "text": [
      "plosha is 9\n",
      "perimetr is 12\n",
      "diagonal is 4.242640687119286\n"
     ]
    }
   ],
   "source": [
    "import math\n",
    "\n",
    "class Square(object):\n",
    "    \n",
    "    def __init(self, side):\n",
    "        self.side=side\n",
    "    \n",
    "    def plosha(self):\n",
    "        return self.side*self.side\n",
    "    \n",
    "    def perimetr(self):\n",
    "        return self.side*4\n",
    "    \n",
    "    def diagonal(self):\n",
    "        return self.side*math.sqrt(2)\n",
    "    \n",
    "    def setSide(self, side):\n",
    "        self.side=side\n",
    "        \n",
    "    def getSide(self):\n",
    "        return self.side\n",
    "    \n",
    "s=Square()\n",
    "\n",
    "s.setSide(3)\n",
    "\n",
    "print('plosha is ' + str(s.plosha()))\n",
    "print('perimetr is ' + str(s.perimetr()))\n",
    "print('diagonal is ' + str(s.diagonal()))"
   ]
  },
  {
   "cell_type": "code",
   "execution_count": 19,
   "metadata": {},
   "outputs": [
    {
     "name": "stdout",
     "output_type": "stream",
     "text": [
      "Animal created\n",
      "Dog created\n",
      "Dog\n"
     ]
    }
   ],
   "source": [
    "class Animal(object):\n",
    "    def __init__(self):\n",
    "        print('Animal created')\n",
    "        \n",
    "    def whoAmI(self):\n",
    "        print('Animal')\n",
    "        \n",
    "    def eat(self):\n",
    "        print('Eating')\n",
    "        \n",
    "class Dog(Animal): #Dog - наслідує все, що було в ботьківському класі Animal\n",
    "    def __init__(self):\n",
    "        Animal.__init__(self) #генеруэмо всі властивості классу animal\n",
    "        print('Dog created')\n",
    "        \n",
    "    def whoAmI(self):\n",
    "        print('Dog') #переназначили whoAmI\n",
    "        \n",
    "    def bark(self):\n",
    "        print('Woof!')\n",
    "        \n",
    "d=Dog()\n",
    "\n",
    "d.whoAmI()"
   ]
  },
  {
   "cell_type": "code",
   "execution_count": 21,
   "metadata": {},
   "outputs": [
    {
     "name": "stdout",
     "output_type": "stream",
     "text": [
      "Eating\n"
     ]
    }
   ],
   "source": [
    "d.eat()"
   ]
  },
  {
   "cell_type": "code",
   "execution_count": 24,
   "metadata": {},
   "outputs": [
    {
     "name": "stdout",
     "output_type": "stream",
     "text": [
      "A book created\n"
     ]
    }
   ],
   "source": [
    "class Book(object):\n",
    "    def __init__(self,title,author,pages):\n",
    "        print('A book created') #обычно тут принт не пишут, это для нас чтоб было понятно\n",
    "        self.title=title\n",
    "        self.author=author\n",
    "        self.pages=pages\n",
    "        \n",
    "    def __str__(self):\n",
    "        return \"Title:%s, Author:%s, Pages:%s\" %(self.title, self.author, self.pages)\n",
    "    \n",
    "    def __len__(self):\n",
    "        return self.pages\n",
    "    \n",
    "    def __del__(self):\n",
    "        print('A book is destroyed')\n",
    "        \n",
    "book=Book('Python Rocks!', 'Jose Porto', 159)"
   ]
  },
  {
   "cell_type": "code",
   "execution_count": 25,
   "metadata": {},
   "outputs": [
    {
     "name": "stdout",
     "output_type": "stream",
     "text": [
      "Title:Python Rocks!, AuthorJose Porto, Pages159\n"
     ]
    }
   ],
   "source": [
    "print(book)"
   ]
  },
  {
   "cell_type": "code",
   "execution_count": 26,
   "metadata": {},
   "outputs": [
    {
     "name": "stdout",
     "output_type": "stream",
     "text": [
      "A book is destroyed\n"
     ]
    }
   ],
   "source": [
    "del book"
   ]
  },
  {
   "cell_type": "code",
   "execution_count": 27,
   "metadata": {},
   "outputs": [
    {
     "ename": "SyntaxError",
     "evalue": "Missing parentheses in call to 'print'. Did you mean print(book)? (<ipython-input-27-d5e235c366bb>, line 1)",
     "output_type": "error",
     "traceback": [
      "\u001b[0;36m  File \u001b[0;32m\"<ipython-input-27-d5e235c366bb>\"\u001b[0;36m, line \u001b[0;32m1\u001b[0m\n\u001b[0;31m    print book\u001b[0m\n\u001b[0m             ^\u001b[0m\n\u001b[0;31mSyntaxError\u001b[0m\u001b[0;31m:\u001b[0m Missing parentheses in call to 'print'. Did you mean print(book)?\n"
     ]
    }
   ],
   "source": [
    "print book #ошибка потому что мы уничтожили класс"
   ]
  },
  {
   "cell_type": "code",
   "execution_count": 30,
   "metadata": {},
   "outputs": [
    {
     "name": "stdout",
     "output_type": "stream",
     "text": [
      "Model:Audi, Power:250, Color:black\n"
     ]
    }
   ],
   "source": [
    "class Car(object):\n",
    "    def __init__(self, model, power, color):\n",
    "        self.model=model\n",
    "        self.power=power\n",
    "        self.color=color\n",
    "        \n",
    "    def __str__(self):\n",
    "        return \"Model:%s, Power:%s, Color:%s\" %(self.model, self.power, self.color)\n",
    "    \n",
    "    def turnOn(self):\n",
    "        print('Turning on')\n",
    "        \n",
    "    def stop(self):\n",
    "        print('Car stopped')\n",
    "    \n",
    "car=Car('Audi', 250, 'black')\n",
    "\n",
    "print(car)"
   ]
  },
  {
   "cell_type": "code",
   "execution_count": 31,
   "metadata": {},
   "outputs": [
    {
     "name": "stdout",
     "output_type": "stream",
     "text": [
      "Turning on\n"
     ]
    }
   ],
   "source": [
    "car.turnOn()"
   ]
  },
  {
   "cell_type": "code",
   "execution_count": null,
   "metadata": {},
   "outputs": [],
   "source": []
  }
 ],
 "metadata": {
  "kernelspec": {
   "display_name": "Python 3",
   "language": "python",
   "name": "python3"
  },
  "language_info": {
   "codemirror_mode": {
    "name": "ipython",
    "version": 3
   },
   "file_extension": ".py",
   "mimetype": "text/x-python",
   "name": "python",
   "nbconvert_exporter": "python",
   "pygments_lexer": "ipython3",
   "version": "3.6.5"
  }
 },
 "nbformat": 4,
 "nbformat_minor": 2
}
