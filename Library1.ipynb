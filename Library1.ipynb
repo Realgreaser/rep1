{
 "cells": [
  {
   "cell_type": "code",
   "execution_count": 7,
   "metadata": {},
   "outputs": [
    {
     "name": "stdout",
     "output_type": "stream",
     "text": [
      "Type isbn 102\n",
      "Harry Potter\n"
     ]
    }
   ],
   "source": [
    "catalog={'101':'Hobbit', '102':'Harry Potter', '103':'It'}\n",
    "\n",
    "def find_isbn():\n",
    "    isbn=input(\"Type isbn \")\n",
    "    \n",
    "    if isbn in catalog.keys():\n",
    "        print(catalog[isbn])\n",
    "    \n",
    "find_isbn()"
   ]
  },
  {
   "cell_type": "code",
   "execution_count": null,
   "metadata": {},
   "outputs": [],
   "source": []
  }
 ],
 "metadata": {
  "kernelspec": {
   "display_name": "Python 3",
   "language": "python",
   "name": "python3"
  },
  "language_info": {
   "codemirror_mode": {
    "name": "ipython",
    "version": 3
   },
   "file_extension": ".py",
   "mimetype": "text/x-python",
   "name": "python",
   "nbconvert_exporter": "python",
   "pygments_lexer": "ipython3",
   "version": "3.6.5"
  }
 },
 "nbformat": 4,
 "nbformat_minor": 2
}
